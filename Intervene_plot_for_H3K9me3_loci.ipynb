{
 "cells": [
  {
   "cell_type": "markdown",
   "metadata": {},
   "source": [
    " The goal of this script is to prepare Intervene plot of the Genomic location covered by Morc3, H3K9me3 and ATAC.\n",
    " All script and results will be save on gitlab.\n",
    " \n",
    " Shark repository is :\"/exports/humgen/jihed/Intervene\"\n",
    " \n",
    " "
   ]
  },
  {
   "cell_type": "markdown",
   "metadata": {},
   "source": [
    "# Paths to folders\n"
   ]
  },
  {
   "cell_type": "code",
   "execution_count": 2,
   "metadata": {},
   "outputs": [],
   "source": [
    "H3K9=\"/exports/humgen/jihed/Coordinate_TOKEEP/chip_peaks/h3k9me3\"\n",
    "MORC3=\"/exports/humgen/jihed/Coordinate_TOKEEP/chip_peaks/morc3\"\n",
    "ATAC=\"/exports/humgen/jihed/Coordinate_TOKEEP/atac_peaks\"\n",
    "OUT=\"/exports/humgen/jihed/Intervene\""
   ]
  },
  {
   "cell_type": "markdown",
   "metadata": {},
   "source": [
    "# Path to each object"
   ]
  },
  {
   "cell_type": "code",
   "execution_count": null,
   "metadata": {},
   "outputs": [],
   "source": [
    "DAR=\"/exports/humgen/jihed/Coordinate_TOKEEP/atac_peaks/DAR_ATAC.sorted.bed\"\n",
    "MORC3_2016=\"/exports/humgen/jihed/Coordinate_TOKEEP/chip_peaks/morc3/Morc3_2016_peaks_merged.sorted.bed\"\n",
    "MORC3_Jacob=\"/exports/humgen/jihed/Coordinate_TOKEEP/chip_peaks/morc3/WTMORC3_Jacobsen_peaks.sorted.bed\"\n",
    "H3K9me3_WT=\"/exports/humgen/jihed/Coordinate_TOKEEP/chip_peaks/h3k9me3/WT.sicer.merge.sorted.bed\""
   ]
  },
  {
   "cell_type": "markdown",
   "metadata": {},
   "source": [
    "# Comparison Morc3 2016 and Morc3 2018 ChIP seq\n",
    "\n",
    "ChIP-seq were performed in mESc by two different person. 2016 data were remapped and peaks were called using MACS2. For the 2018, only bigwig files (IP and input) was given and peak were called by comparing the tracks. "
   ]
  },
  {
   "cell_type": "code",
   "execution_count": 3,
   "metadata": {},
   "outputs": [
    {
     "ename": "SyntaxError",
     "evalue": "invalid syntax (<ipython-input-3-ca8e04861bde>, line 1)",
     "output_type": "error",
     "traceback": [
      "\u001b[0;36m  File \u001b[0;32m\"<ipython-input-3-ca8e04861bde>\"\u001b[0;36m, line \u001b[0;32m1\u001b[0m\n\u001b[0;31m    intervene venn \\\u001b[0m\n\u001b[0m                 ^\u001b[0m\n\u001b[0;31mSyntaxError\u001b[0m\u001b[0;31m:\u001b[0m invalid syntax\n"
     ]
    }
   ],
   "source": [
    "intervene venn \\\n",
    "    --project Morc3_2016_vs_2018 \\\n",
    "    -i $MORC3_2016 $MORC3_Jacob\n",
    "\n",
    "intervene upset \\\n",
    "    --project Morc3_2016_vs_2018_upset \\\n",
    "    -i $MORC3_2016 $MORC3_Jacob"
   ]
  },
  {
   "cell_type": "markdown",
   "metadata": {},
   "source": [
    "# Intervene DAR and Morc3 2016 \n"
   ]
  },
  {
   "cell_type": "code",
   "execution_count": null,
   "metadata": {},
   "outputs": [],
   "source": [
    "intervene venn \\\n",
    "    --project DAR_Morc3_2016 \\\n",
    "    -i $MORC3_2016 $DAR"
   ]
  },
  {
   "cell_type": "markdown",
   "metadata": {},
   "source": [
    "# Intervene DAR and Morc3 2018"
   ]
  },
  {
   "cell_type": "code",
   "execution_count": null,
   "metadata": {},
   "outputs": [],
   "source": [
    "intervene venn \\\n",
    "    --project DAR_Morc3_Jacob \\\n",
    "    -i $MORC3_Jacob $DAR"
   ]
  },
  {
   "cell_type": "markdown",
   "metadata": {},
   "source": [
    "# Intervene H3K9me3 and Morc3 2016 "
   ]
  },
  {
   "cell_type": "code",
   "execution_count": null,
   "metadata": {},
   "outputs": [],
   "source": [
    "intervene venn \\\n",
    "    --project H3K9me3_Morc3_2016 \\\n",
    "    -i $MORC3_2016 $H3K9me3_WT"
   ]
  },
  {
   "cell_type": "markdown",
   "metadata": {},
   "source": [
    "# Intervene H3K9me3 and Morc3 2018"
   ]
  },
  {
   "cell_type": "code",
   "execution_count": null,
   "metadata": {},
   "outputs": [],
   "source": [
    "intervene venn \\\n",
    "    --project H3K9me3_Morc3_Jacob \\\n",
    "    -i $MORC3_Jacob $H3K9me3_WT"
   ]
  },
  {
   "cell_type": "markdown",
   "metadata": {},
   "source": [
    "# Intervene H3K9me3 and DAR"
   ]
  },
  {
   "cell_type": "code",
   "execution_count": null,
   "metadata": {},
   "outputs": [],
   "source": [
    "intervene venn \\ \n",
    "    --project H3K9me3_DAR \\\n",
    "    -i $DAR $H3K9me3_WT"
   ]
  }
 ],
 "metadata": {
  "kernelspec": {
   "display_name": "Python 3",
   "language": "python",
   "name": "python3"
  },
  "language_info": {
   "codemirror_mode": {
    "name": "ipython",
    "version": 3
   },
   "file_extension": ".py",
   "mimetype": "text/x-python",
   "name": "python",
   "nbconvert_exporter": "python",
   "pygments_lexer": "ipython3",
   "version": "3.7.6"
  }
 },
 "nbformat": 4,
 "nbformat_minor": 4
}
